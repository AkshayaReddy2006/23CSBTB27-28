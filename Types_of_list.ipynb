{
  "nbformat": 4,
  "nbformat_minor": 0,
  "metadata": {
    "colab": {
      "provenance": [],
      "authorship_tag": "ABX9TyMxQYYUNVF8So3qUiIoiqAi",
      "include_colab_link": true
    },
    "kernelspec": {
      "name": "python3",
      "display_name": "Python 3"
    },
    "language_info": {
      "name": "python"
    }
  },
  "cells": [
    {
      "cell_type": "markdown",
      "metadata": {
        "id": "view-in-github",
        "colab_type": "text"
      },
      "source": [
        "<a href=\"https://colab.research.google.com/github/AkshayaReddy2006/23CSBTB27-28/blob/main/Types_of_list.ipynb\" target=\"_parent\"><img src=\"https://colab.research.google.com/assets/colab-badge.svg\" alt=\"Open In Colab\"/></a>"
      ]
    },
    {
      "cell_type": "code",
      "execution_count": null,
      "metadata": {
        "id": "xvd4d4BphiaY"
      },
      "outputs": [],
      "source": []
    },
    {
      "cell_type": "markdown",
      "source": [
        "## part 1 - Implement Basic Data Structure using Numpy,Pandas\n"
      ],
      "metadata": {
        "id": "YVr0rm_biwHa"
      }
    },
    {
      "cell_type": "code",
      "source": [
        "list = {1,5,2,6,3}\n",
        "list1 = [3,6,1,8]\n",
        "list2= [\"greek\",\"for\"]\n",
        "list3= \"my first lab\"\n",
        "list4= 2j+6\n",
        "list5 = 4.3\n",
        "print(list)\n",
        "print(list1)\n",
        "print(list2)\n",
        "print(list3)\n",
        "print(type(list))\n",
        "print(type(list1))\n",
        "print(type(list2))\n",
        "print(type(list3))\n",
        "print(type(list4))\n",
        "print(type(list5))\n",
        "\n"
      ],
      "metadata": {
        "colab": {
          "base_uri": "https://localhost:8080/"
        },
        "id": "OOD8t7M1jAyf",
        "outputId": "16158dfb-d0de-40c2-82d0-d24d648e141f"
      },
      "execution_count": 4,
      "outputs": [
        {
          "output_type": "stream",
          "name": "stdout",
          "text": [
            "{1, 2, 3, 5, 6}\n",
            "[3, 6, 1, 8]\n",
            "['greek', 'for']\n",
            "my first lab\n",
            "<class 'set'>\n",
            "<class 'list'>\n",
            "<class 'list'>\n",
            "<class 'str'>\n",
            "<class 'complex'>\n",
            "<class 'float'>\n"
          ]
        }
      ]
    },
    {
      "cell_type": "code",
      "source": [
        "list = {1:\"greek1\",2:\"greeks\",\"for\":3,\"greeks\":6}\n",
        "print(\"\\nlist with the use of Mixed values : \")\n",
        "print(list)\n",
        "print(type(list))\n",
        "\n"
      ],
      "metadata": {
        "colab": {
          "base_uri": "https://localhost:8080/"
        },
        "id": "co7aLpeFn5oX",
        "outputId": "f24eaa1a-84e6-4e19-f38c-36cd75b8d6e1"
      },
      "execution_count": 5,
      "outputs": [
        {
          "output_type": "stream",
          "name": "stdout",
          "text": [
            "\n",
            "list with the use of Mixed values : \n",
            "{1: 'greek1', 2: 'greeks', 'for': 3, 'greeks': 6}\n",
            "<class 'dict'>\n"
          ]
        }
      ]
    }
  ]
}
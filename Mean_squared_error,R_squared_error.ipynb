{
  "nbformat": 4,
  "nbformat_minor": 0,
  "metadata": {
    "colab": {
      "provenance": [],
      "authorship_tag": "ABX9TyNPL8MlHfQjam32X3QE8H4H",
      "include_colab_link": true
    },
    "kernelspec": {
      "name": "python3",
      "display_name": "Python 3"
    },
    "language_info": {
      "name": "python"
    }
  },
  "cells": [
    {
      "cell_type": "markdown",
      "metadata": {
        "id": "view-in-github",
        "colab_type": "text"
      },
      "source": [
        "<a href=\"https://colab.research.google.com/github/AkshayaReddy2006/23CSBTB27-28/blob/main/Mean_squared_error%2CR_squared_error.ipynb\" target=\"_parent\"><img src=\"https://colab.research.google.com/assets/colab-badge.svg\" alt=\"Open In Colab\"/></a>"
      ]
    },
    {
      "cell_type": "code",
      "execution_count": 1,
      "metadata": {
        "id": "XoQAI1M82i-j"
      },
      "outputs": [],
      "source": [
        "import numpy as np\n",
        "import pandas as pd\n"
      ]
    },
    {
      "cell_type": "code",
      "source": [
        "# from sklearn.datasets import load_boston  # Removed due to ethical concerns\n",
        "from sklearn.datasets import fetch_california_housing # Use this dataset instead of the Boston dataset\n",
        "from sklearn.model_selection import train_test_split\n",
        "from sklearn.linear_model import LinearRegression\n",
        "from sklearn.metrics import mean_squared_error, r2_score\n",
        "\n",
        "housing = fetch_california_housing() # Load the California housing dataset"
      ],
      "metadata": {
        "id": "qBda59As3BWD"
      },
      "execution_count": 3,
      "outputs": []
    },
    {
      "cell_type": "code",
      "source": [
        "# Load the dataset\n",
        "from sklearn.datasets import fetch_openml # Import the function\n",
        "\n",
        "housing_data = fetch_openml(name='house_prices', as_frame=True) # Load the housing prices dataset and assign it to a new variable"
      ],
      "metadata": {
        "id": "Cj-8rqBx3UZ1"
      },
      "execution_count": 5,
      "outputs": []
    },
    {
      "cell_type": "code",
      "source": [
        "data = pd.DataFrame(housing.data, columns=housing.feature_names) # Changed 'boston' to 'housing' to reference the loaded dataset\n",
        "data['MEDV'] = housing.target  # MEDV is the target variable"
      ],
      "metadata": {
        "id": "-OT-hacz3kt6"
      },
      "execution_count": 7,
      "outputs": []
    },
    {
      "cell_type": "code",
      "source": [
        "# Define the features (X) and the target (y)\n",
        "X = data.drop(columns=['MEDV'])  # Features\n",
        "y = data['MEDV']                # Target (Median value of homes)\n",
        "\n"
      ],
      "metadata": {
        "id": "Qu6fKBck3n5M"
      },
      "execution_count": 8,
      "outputs": []
    },
    {
      "cell_type": "code",
      "source": [
        "# Split the data into training and test sets\n",
        "X_train, X_test, y_train, y_test = train_test_split(X, y, test_size=0.2, random_state=42)\n",
        "\n"
      ],
      "metadata": {
        "id": "5r4CQqzV3sFj"
      },
      "execution_count": 9,
      "outputs": []
    },
    {
      "cell_type": "code",
      "source": [
        "# Create a LinearRegression model\n",
        "model = LinearRegression()\n",
        "\n"
      ],
      "metadata": {
        "id": "xQzWpNEk3wTL"
      },
      "execution_count": 10,
      "outputs": []
    },
    {
      "cell_type": "code",
      "source": [
        "# Train the model (fit)\n",
        "model.fit(X_train, y_train)\n",
        "# Make predictions using the test data\n",
        "y_pred = model.predict(X_test)\n"
      ],
      "metadata": {
        "id": "FP26chS6355h"
      },
      "execution_count": 11,
      "outputs": []
    },
    {
      "cell_type": "code",
      "source": [
        "# Calculate Mean Squared Error (MSE) and R-squared (R2)\n",
        "mse = mean_squared_error(y_test, y_pred)\n",
        "r2 = r2_score(y_test, y_pred)\n",
        "\n",
        "print(f'Mean Squared Error: {mse}')\n",
        "print(f'R-squared: {r2}')"
      ],
      "metadata": {
        "colab": {
          "base_uri": "https://localhost:8080/"
        },
        "id": "j0NHWQxz3-K3",
        "outputId": "22541fdc-4c80-40da-ceb3-57913fd372eb"
      },
      "execution_count": 12,
      "outputs": [
        {
          "output_type": "stream",
          "name": "stdout",
          "text": [
            "Mean Squared Error: 0.5558915986952444\n",
            "R-squared: 0.5757877060324508\n"
          ]
        }
      ]
    }
  ]
}
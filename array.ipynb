{
  "nbformat": 4,
  "nbformat_minor": 0,
  "metadata": {
    "colab": {
      "provenance": [],
      "authorship_tag": "ABX9TyNJnRzLxHoUHdD1FVRREazJ",
      "include_colab_link": true
    },
    "kernelspec": {
      "name": "python3",
      "display_name": "Python 3"
    },
    "language_info": {
      "name": "python"
    }
  },
  "cells": [
    {
      "cell_type": "markdown",
      "metadata": {
        "id": "view-in-github",
        "colab_type": "text"
      },
      "source": [
        "<a href=\"https://colab.research.google.com/github/AkshayaReddy2006/23CSBTB27-28/blob/main/array.ipynb\" target=\"_parent\"><img src=\"https://colab.research.google.com/assets/colab-badge.svg\" alt=\"Open In Colab\"/></a>"
      ]
    },
    {
      "cell_type": "code",
      "execution_count": 1,
      "metadata": {
        "colab": {
          "base_uri": "https://localhost:8080/"
        },
        "id": "5q_uAXtrw9mM",
        "outputId": "7c1286ff-2051-4273-e63b-db37bcfe760b"
      },
      "outputs": [
        {
          "output_type": "stream",
          "name": "stdout",
          "text": [
            "[2 5 3 7 3]\n",
            "<class 'numpy.ndarray'>\n"
          ]
        }
      ],
      "source": [
        "import numpy as np\n",
        "array=np.array([2,5,3,7,3])\n",
        "print(array)\n",
        "print(type(array))"
      ]
    },
    {
      "cell_type": "code",
      "source": [
        "import numpy as np\n",
        "arry=np.array([[2,5],[4,2]])\n",
        "arry1=np.array([[2,5,4,2],[4,2,1,0]])\n",
        "arry2=np.array([[2,5,4],[4,2,5],[6,7,8]])\n",
        "print(arry)\n",
        "print(arry1)\n",
        "print(arry2)"
      ],
      "metadata": {
        "colab": {
          "base_uri": "https://localhost:8080/"
        },
        "id": "Qn2mRK6tyus5",
        "outputId": "a0364315-4605-4b46-a554-0cc7bbc40891"
      },
      "execution_count": 2,
      "outputs": [
        {
          "output_type": "stream",
          "name": "stdout",
          "text": [
            "[[2 5]\n",
            " [4 2]]\n",
            "[[2 5 4 2]\n",
            " [4 2 1 0]]\n",
            "[[2 5 4]\n",
            " [4 2 5]\n",
            " [6 7 8]]\n"
          ]
        }
      ]
    },
    {
      "cell_type": "code",
      "source": [
        "import numpy as np\n",
        "array1=np.array([1,3,4,5,6])\n",
        "array2=np.array([2,6,3,4,8])\n",
        "print(array1)\n",
        "print(np.add(array1,array2))\n",
        "print(np.multiply(array1,array2))\n",
        "print(np.subtract(array2,array1))\n",
        "print(np.divide(array2,array1))\n",
        "print(type(array1))"
      ],
      "metadata": {
        "colab": {
          "base_uri": "https://localhost:8080/"
        },
        "id": "GYIaUnXmyzQZ",
        "outputId": "9a4ee690-5c57-46fd-bfbc-1a5a0292e6d9"
      },
      "execution_count": 3,
      "outputs": [
        {
          "output_type": "stream",
          "name": "stdout",
          "text": [
            "[1 3 4 5 6]\n",
            "[ 3  9  7  9 14]\n",
            "[ 2 18 12 20 48]\n",
            "[ 1  3 -1 -1  2]\n",
            "[2.         2.         0.75       0.8        1.33333333]\n",
            "<class 'numpy.ndarray'>\n"
          ]
        }
      ]
    }
  ]
}